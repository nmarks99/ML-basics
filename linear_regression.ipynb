{
 "cells": [
  {
   "cell_type": "code",
   "execution_count": null,
   "metadata": {},
   "outputs": [],
   "source": [
    "import torch\n",
    "from torch.utils.data import Dataset, DataLoader\n",
    "import numpy as np\n",
    "from matplotlib import pyplot as plt"
   ]
  },
  {
   "cell_type": "code",
   "execution_count": 81,
   "metadata": {},
   "outputs": [],
   "source": [
    "class KleibersLawDataset(Dataset):\n",
    "    def __init__(self, path):\n",
    "        data = np.loadtxt(path,delimiter=\",\")\n",
    "        self.inputs = torch.from_numpy(np.log(data[:-1, :]))\n",
    "        self.outputs = torch.from_numpy(np.log(data[-1:, :]))\n",
    "\n",
    "    def __len__(self):\n",
    "        return (len(self.inputs))\n",
    "\n",
    "    def __getitem__(self, idx):\n",
    "        return self.inputs[idx], self.outputs[idx]\n",
    "\n",
    "    def scatter_plot(self):\n",
    "        x = self.inputs.numpy()\n",
    "        y = self.outputs.numpy()\n",
    "        plt.scatter(x,y)\n",
    "        plt.grid()\n",
    "        plt.show()"
   ]
  },
  {
   "cell_type": "code",
   "execution_count": 82,
   "metadata": {},
   "outputs": [],
   "source": [
    "# load the dataset\n",
    "training_data = KleibersLawDataset(\"./datasets/kleibers_law_data.csv\")\n",
    "\n",
    "# Show a plot of the raw data\n",
    "# training_data.scatter_plot()\n",
    "\n",
    "# Create a DataLoader\n",
    "dataloader = DataLoader(training_data)"
   ]
  },
  {
   "cell_type": "code",
   "execution_count": null,
   "metadata": {},
   "outputs": [],
   "source": [
    "# Define a linear model with torch.nn.Module\n",
    "class LinearModel(torch.nn.Module):\n",
    "    def __init__(self, input_dim):\n",
    "        super(LinearModel, self).__init__()\n",
    "        self.linear = torch.nn.Linear(input_dim, 1)\n",
    "\n",
    "    def forward(self, x):\n",
    "        return self.linear(x)"
   ]
  },
  {
   "cell_type": "code",
   "execution_count": 75,
   "metadata": {},
   "outputs": [
    {
     "data": {
      "text/plain": [
       "torch.Size([1498])"
      ]
     },
     "execution_count": 75,
     "metadata": {},
     "output_type": "execute_result"
    }
   ],
   "source": [
    "# instatiate the model based on the size of the input data\n",
    "dataloader.dataset.inputs.shape"
   ]
  },
  {
   "cell_type": "code",
   "execution_count": null,
   "metadata": {},
   "outputs": [],
   "source": []
  }
 ],
 "metadata": {
  "kernelspec": {
   "display_name": "Python 3",
   "language": "python",
   "name": "python3"
  },
  "language_info": {
   "codemirror_mode": {
    "name": "ipython",
    "version": 3
   },
   "file_extension": ".py",
   "mimetype": "text/x-python",
   "name": "python",
   "nbconvert_exporter": "python",
   "pygments_lexer": "ipython3",
   "version": "3.9.16"
  }
 },
 "nbformat": 4,
 "nbformat_minor": 2
}
