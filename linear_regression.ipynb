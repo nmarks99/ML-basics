{
 "cells": [
  {
   "cell_type": "code",
   "execution_count": null,
   "metadata": {},
   "outputs": [],
   "source": [
    "import torch\n",
    "from torch.utils.data import Dataset, DataLoader\n",
    "import numpy as np\n",
    "from matplotlib import pyplot as plt"
   ]
  },
  {
   "cell_type": "code",
   "execution_count": null,
   "metadata": {},
   "outputs": [],
   "source": [
    "class KleibersLawDataset(Dataset):\n",
    "    def __init__(self, path):\n",
    "        self.data = np.loadtxt(path,delimiter=\",\")\n",
    "        self.x = torch.from_numpy(np.log(self.data[:-1,:]))\n",
    "        self.y = torch.from_numpy(np.log(self.data[-1:,:]))\n",
    "\n",
    "    def __len__(self):\n",
    "        return (len(self.x))\n",
    "\n",
    "    def __getitem__(self, idx):\n",
    "        return self.x[idx], self.y[idx]"
   ]
  },
  {
   "cell_type": "code",
   "execution_count": null,
   "metadata": {},
   "outputs": [],
   "source": [
    "training_data = KleibersLawDataset(\"./datasets/kleibers_law_data.csv\")\n",
    "train_dataloader = DataLoader(training_data)\n",
    "\n",
    "xdata = train_dataloader.dataset.x\n",
    "ydata = train_dataloader.dataset.y\n",
    "xdata.numpy()\n",
    "ydata.numpy()\n",
    "\n",
    "fig, ax = plt.subplots()\n",
    "ax.scatter(xdata.flatten(),ydata.flatten())\n",
    "ax.grid()\n",
    "plt.show()"
   ]
  },
  {
   "cell_type": "code",
   "execution_count": null,
   "metadata": {},
   "outputs": [],
   "source": []
  }
 ],
 "metadata": {
  "kernelspec": {
   "display_name": "Python 3",
   "language": "python",
   "name": "python3"
  },
  "language_info": {
   "codemirror_mode": {
    "name": "ipython",
    "version": 3
   },
   "file_extension": ".py",
   "mimetype": "text/x-python",
   "name": "python",
   "nbconvert_exporter": "python",
   "pygments_lexer": "ipython3",
   "version": "3.9.16"
  }
 },
 "nbformat": 4,
 "nbformat_minor": 2
}
