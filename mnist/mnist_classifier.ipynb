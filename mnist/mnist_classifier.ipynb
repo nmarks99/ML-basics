{
 "cells": [
  {
   "cell_type": "markdown",
   "metadata": {},
   "source": [
    "# MNIST Classifier\n",
    "Training a basic feedforward neural network to classify handwritten\n",
    "digits from the MNIST database"
   ]
  },
  {
   "cell_type": "code",
   "execution_count": 51,
   "metadata": {},
   "outputs": [],
   "source": [
    "import torch\n",
    "import torch.nn.functional as F\n",
    "import torchvision\n",
    "import numpy as np\n",
    "import os\n",
    "from matplotlib import pyplot as plt\n",
    "from tqdm import tqdm\n",
    "plt.style.use('ggplot')"
   ]
  },
  {
   "cell_type": "markdown",
   "metadata": {},
   "source": [
    "**Load the dataset**\n",
    "\n",
    "We load the MNIST dataset from torchvision into two separate dataloaders, one for training and\n",
    "one for testing"
   ]
  },
  {
   "cell_type": "code",
   "execution_count": 52,
   "metadata": {},
   "outputs": [],
   "source": [
    "batch_size_train = 64\n",
    "batch_size_test = 1000\n",
    "learning_rate = 0.01\n",
    "\n",
    "random_seed = 1\n",
    "torch.backends.cudnn.enabled = False\n",
    "torch.manual_seed(random_seed)\n",
    "\n",
    "train_loader = torch.utils.data.DataLoader(\n",
    "  torchvision.datasets.MNIST('./datasets/', train=True, download=True,\n",
    "                             transform=torchvision.transforms.Compose([\n",
    "                               torchvision.transforms.ToTensor(),\n",
    "                               torchvision.transforms.Normalize(\n",
    "                                 (0.1307,), (0.3081,))\n",
    "                             ])),\n",
    "  batch_size=batch_size_train, shuffle=True)\n",
    "\n",
    "test_loader = torch.utils.data.DataLoader(\n",
    "  torchvision.datasets.MNIST('./datasets/', train=False, download=True,\n",
    "                             transform=torchvision.transforms.Compose([\n",
    "                               torchvision.transforms.ToTensor(),\n",
    "                               torchvision.transforms.Normalize(\n",
    "                                 (0.1307,), (0.3081,))\n",
    "                             ])),\n",
    "  batch_size=batch_size_test, shuffle=True)"
   ]
  },
  {
   "cell_type": "markdown",
   "metadata": {},
   "source": [
    "**Define the Neural Network**\n",
    "\n",
    "We have opted to use a very simple feedforward neural network with 3 fully connected layers.\n",
    "Note that the softmax function is not applied to the output. This is because the `torch.nn.CrossEntropyLoss()`\n",
    "function will internally apply softmax, so applying it here as well would be redundant."
   ]
  },
  {
   "cell_type": "code",
   "execution_count": 90,
   "metadata": {},
   "outputs": [],
   "source": [
    "# Create the neural network\n",
    "class NeuralNet(torch.nn.Module):\n",
    "    def __init__(self, input_size, hidden_size, num_classes):\n",
    "        super(NeuralNet, self).__init__()\n",
    "        self.fc1 = torch.nn.Linear(input_size, hidden_size)\n",
    "        self.relu = torch.nn.ReLU()\n",
    "        self.fc2 = torch.nn.Linear(hidden_size, num_classes)\n",
    "\n",
    "    def forward(self, x):\n",
    "        x = x.view(x.size(0), -1) # flatten the tensor\n",
    "        out = self.fc1(x)\n",
    "        out = self.relu(out)\n",
    "        out = self.fc2(out)\n",
    "        return out"
   ]
  },
  {
   "cell_type": "markdown",
   "metadata": {},
   "source": [
    "**Setup**\n",
    "\n",
    "Here we setup the neural network model, the loss function, and the optimizer.\n",
    " \n",
    "This network has an input layer which has a size of 784, where each neuron will correspond to a pixel in the image. Then a hidden layer which was arbitrarily chosen to have 196 neurons (784/4), and finally the\n",
    "output layer which has 10 neurons corresponding to the 10 classes (digits 0-9).\n",
    "\n",
    "The loss function we use here is the cross entropy loss because it is used with great success for basic image classification techniques. For the\n",
    "optimizer, we use stochastic gradient descent because it is the most basic/standard optimizer."
   ]
  },
  {
   "cell_type": "code",
   "execution_count": 91,
   "metadata": {},
   "outputs": [],
   "source": [
    "input_size = 784 # 28x28 pixel images\n",
    "hidden_size = 196 # 1/4 the input size (picked arbitrarily)\n",
    "num_classes = 10 # 10 classes (digits 0 - 9)\n",
    "model = NeuralNet(input_size, hidden_size, num_classes)\n",
    "\n",
    "criterion = torch.nn.CrossEntropyLoss()\n",
    "optimizer = torch.optim.SGD(model.parameters(), lr=0.01)"
   ]
  },
  {
   "cell_type": "markdown",
   "metadata": {},
   "source": [
    "**Training**\n",
    "\n",
    "Here we train the model and plot the loss history as usually\n",
    "\n",
    "*Note:* to retrain the model, delete or rename the saved model in the models/ directory."
   ]
  },
  {
   "cell_type": "code",
   "execution_count": 92,
   "metadata": {},
   "outputs": [
    {
     "name": "stdout",
     "output_type": "stream",
     "text": [
      "Loading model: ./models/mnist_model.pt\n"
     ]
    }
   ],
   "source": [
    "model_file_path = \"./models/mnist_model.pt\"\n",
    "if not os.path.isfile(model_file_path):\n",
    "\n",
    "    loss_hist = []\n",
    "    for batch_idx, (data, target) in enumerate(tqdm(train_loader)):\n",
    "        model.train()\n",
    "        optimizer.zero_grad()\n",
    "\n",
    "        # Do a forward pass to get a prediction from the model\n",
    "        pred = model(data)\n",
    "\n",
    "        # Compute the loss\n",
    "        loss = criterion(pred, target)\n",
    "        loss_hist.append(loss.item())\n",
    "\n",
    "        # Compute gradients and take a gradient step\n",
    "        loss.backward()\n",
    "        optimizer.step()\n",
    "\n",
    "    # plot the loss history\n",
    "    fig, ax = plt.subplots(figsize=(5,3));\n",
    "    ax.plot(loss_hist, color=\"blue\");\n",
    "    ax.set(title=\"Loss history\");\n",
    "else:\n",
    "    print(f\"Loading model: {model_file_path}\")\n",
    "    model.load_state_dict(torch.load(model_file_path))\n",
    "    model.eval()"
   ]
  },
  {
   "cell_type": "code",
   "execution_count": 93,
   "metadata": {},
   "outputs": [
    {
     "name": "stdout",
     "output_type": "stream",
     "text": [
      "Model file already exists. Delete/rename old file before saving a new one\n"
     ]
    }
   ],
   "source": [
    "# Run this to save the trained model:\n",
    "if not os.path.isfile(model_file_path):\n",
    "    print(f\"Saved trained model to {model_file_path}]\")\n",
    "    torch.save(model.state_dict(), \"./models/mnist_model.pt\")\n",
    "else:\n",
    "    print(\"Model file already exists. Delete/rename old file before saving a new one\")\n"
   ]
  },
  {
   "cell_type": "markdown",
   "metadata": {},
   "source": [
    "**Testing**\n",
    "\n",
    "To compute the accuracy of the model, we compare the outputs of the model on the test data with the associated labels"
   ]
  },
  {
   "cell_type": "code",
   "execution_count": 95,
   "metadata": {},
   "outputs": [
    {
     "name": "stdout",
     "output_type": "stream",
     "text": [
      "Hits = 9141\n",
      "Misses = 859\n",
      "Accuracy = 91.41 %\n"
     ]
    }
   ],
   "source": [
    "hits = 0\n",
    "misses = 0\n",
    "with torch.no_grad():\n",
    "    for data, labels in test_loader:\n",
    "\n",
    "        # Pass each batch of data through the model and softmax\n",
    "        output = model(data)\n",
    "        output = F.softmax(output, dim=1) # map values to be between 0 and 1\n",
    "\n",
    "        # The index of the largest value is the predicted class\n",
    "        pred_class = torch.tensor([torch.argmax(outs) for outs in output])\n",
    "\n",
    "        # Compare the predicted classes to the true labels and tally up hits and misses\n",
    "        comp = (labels == pred_class)\n",
    "        for i in range(len(comp)):\n",
    "            if comp[i]:\n",
    "                hits += 1\n",
    "            else:\n",
    "                misses += 1\n",
    "\n",
    "    # Print the results\n",
    "    print(f\"Hits = {hits}\")\n",
    "    print(f\"Misses = {misses}\")\n",
    "    print(f\"Accuracy = {100*hits/(hits+misses)} %\")"
   ]
  },
  {
   "cell_type": "markdown",
   "metadata": {},
   "source": [
    "Running the cell below will get a test image, display it,\n",
    "run it through the model, then show a bar graph displaying the confidence percentages for each class (digit)"
   ]
  },
  {
   "cell_type": "code",
   "execution_count": 96,
   "metadata": {},
   "outputs": [
    {
     "data": {
      "image/png": "[encoded data removed]",
      "text/plain": [
       "<Figure size 300x300 with 1 Axes>"
      ]
     },
     "metadata": {},
     "output_type": "display_data"
    },
    {
     "data": {
      "image/png": "[encoded data removed]",
      "text/plain": [
       "<Figure size 600x300 with 1 Axes>"
      ]
     },
     "metadata": {},
     "output_type": "display_data"
    }
   ],
   "source": [
    "test_data = enumerate(test_loader)\n",
    "batch_idx, (test_data, test_labels) = next(test_data)\n",
    "test_img = test_data[0]\n",
    "\n",
    "# Show the image\n",
    "fig, ax = plt.subplots(figsize=(3,3))\n",
    "ax.imshow(test_img.squeeze(), cmap='gray')\n",
    "ax.set(title=f\"True label: {test_labels[0]}\")\n",
    "ax.set_xticks([])\n",
    "ax.set_yticks([])\n",
    "\n",
    "# Run the image through the model\n",
    "res = model(test_img).detach()\n",
    "res = F.softmax(res, dim=1).numpy().flatten()\n",
    "res_dict = {i : 100*res[i] for i in range(len(res))}\n",
    "\n",
    "# Bar graph of the predicted class\n",
    "fig, ax = plt.subplots(figsize=(6,3))\n",
    "ax.bar(res_dict.keys(), res_dict.values())\n",
    "ax.set(title=\"Prediction\", ylabel=\"Confidence\")\n",
    "ax.set_xticks(np.arange(0,10,1));\n",
    "ax.set_yticks(np.arange(0,110,10));"
   ]
  }
 ],
 "metadata": {
  "kernelspec": {
   "display_name": "Python 3",
   "language": "python",
   "name": "python3"
  },
  "language_info": {
   "codemirror_mode": {
    "name": "ipython",
    "version": 3
   },
   "file_extension": ".py",
   "mimetype": "text/x-python",
   "name": "python",
   "nbconvert_exporter": "python",
   "pygments_lexer": "ipython3",
   "version": "3.9.16"
  }
 },
 "nbformat": 4,
 "nbformat_minor": 2
}
